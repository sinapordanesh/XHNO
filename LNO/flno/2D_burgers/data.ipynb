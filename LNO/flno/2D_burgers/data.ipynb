{
 "cells": [
  {
   "cell_type": "code",
   "execution_count": 1,
   "metadata": {},
   "outputs": [],
   "source": [
    "from scipy.io import loadmat\n",
    "import numpy as np\n",
    "import torch\n",
    "import matplotlib.pyplot as plt"
   ]
  },
  {
   "cell_type": "code",
   "execution_count": 2,
   "metadata": {},
   "outputs": [],
   "source": [
    "# data = loadmat('data/burgers_data_R10.mat')\n",
    "data = loadmat('data/data.mat')"
   ]
  },
  {
   "cell_type": "code",
   "execution_count": 3,
   "metadata": {},
   "outputs": [
    {
     "data": {
      "text/plain": [
       "dict_keys(['__header__', '__version__', '__globals__', 'f_test', 'f_train', 'f_vali', 't', 'u_test', 'u_train', 'u_vali', 'x'])"
      ]
     },
     "execution_count": 3,
     "metadata": {},
     "output_type": "execute_result"
    }
   ],
   "source": [
    "data.keys()"
   ]
  },
  {
   "cell_type": "code",
   "execution_count": null,
   "metadata": {},
   "outputs": [
    {
     "name": "stdout",
     "output_type": "stream",
     "text": [
      "Variable '__header__' is not an array; shape is not applicable\n",
      "Variable '__version__' is not an array; shape is not applicable\n",
      "Variable '__globals__' is not an array; shape is not applicable\n",
      "Variable 'f_test': Shape = (100, 64, 50)\n",
      "Variable 'f_train': Shape = (800, 64, 50)\n",
      "Variable 'f_vali': Shape = (100, 64, 50)\n",
      "Variable 't': Shape = (1, 50)\n",
      "Variable 'u_test': Shape = (100, 64, 50)\n",
      "Variable 'u_train': Shape = (800, 64, 50)\n",
      "Variable 'u_vali': Shape = (100, 64, 50)\n",
      "Variable 'x': Shape = (1, 64)\n"
     ]
    }
   ],
   "source": [
    "for key, value in data.items():\n",
    "    if isinstance(value, np.ndarray):  # Check if the variable is an array\n",
    "        print(f\"Variable '{key}': Shape = {value.shape}\")\n",
    "    else:\n",
    "        print(f\"Variable '{key}' is not an array; shape is not applicable\")"
   ]
  }
 ],
 "metadata": {
  "kernelspec": {
   "display_name": ".venv",
   "language": "python",
   "name": "python3"
  },
  "language_info": {
   "codemirror_mode": {
    "name": "ipython",
    "version": 3
   },
   "file_extension": ".py",
   "mimetype": "text/x-python",
   "name": "python",
   "nbconvert_exporter": "python",
   "pygments_lexer": "ipython3",
   "version": "3.9.7"
  }
 },
 "nbformat": 4,
 "nbformat_minor": 2
}
