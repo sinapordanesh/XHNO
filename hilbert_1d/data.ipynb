{
 "cells": [
  {
   "cell_type": "code",
   "execution_count": 1,
   "metadata": {},
   "outputs": [],
   "source": [
    "from scipy.io import loadmat\n",
    "import numpy as np"
   ]
  },
  {
   "cell_type": "code",
   "execution_count": 2,
   "metadata": {},
   "outputs": [],
   "source": [
    "data = loadmat('data/burgers_data_R10.mat')"
   ]
  },
  {
   "cell_type": "code",
   "execution_count": 3,
   "metadata": {},
   "outputs": [
    {
     "data": {
      "text/plain": [
       "dict_keys(['__header__', '__version__', '__globals__', 'a', 'a_smooth', 'a_smooth_x', 'a_x', 'u'])"
      ]
     },
     "execution_count": 3,
     "metadata": {},
     "output_type": "execute_result"
    }
   ],
   "source": [
    "data.keys()"
   ]
  },
  {
   "cell_type": "code",
   "execution_count": 4,
   "metadata": {},
   "outputs": [
    {
     "name": "stdout",
     "output_type": "stream",
     "text": [
      "Variable '__header__' is not an array; shape is not applicable\n",
      "Variable '__version__' is not an array; shape is not applicable\n",
      "Variable '__globals__' is not an array; shape is not applicable\n",
      "Variable 'a': Shape = (2048, 8192)\n",
      "Variable 'a_smooth': Shape = (2048, 8192)\n",
      "Variable 'a_smooth_x': Shape = (2048, 8191)\n",
      "Variable 'a_x': Shape = (2048, 8191)\n",
      "Variable 'u': Shape = (2048, 8192)\n"
     ]
    }
   ],
   "source": [
    "for key, value in data.items():\n",
    "    if isinstance(value, np.ndarray):  # Check if the variable is an array\n",
    "        print(f\"Variable '{key}': Shape = {value.shape}\")\n",
    "    else:\n",
    "        print(f\"Variable '{key}' is not an array; shape is not applicable\")\n"
   ]
  },
  {
   "cell_type": "code",
   "execution_count": null,
   "metadata": {},
   "outputs": [],
   "source": []
  }
 ],
 "metadata": {
  "kernelspec": {
   "display_name": ".venv",
   "language": "python",
   "name": "python3"
  },
  "language_info": {
   "codemirror_mode": {
    "name": "ipython",
    "version": 3
   },
   "file_extension": ".py",
   "mimetype": "text/x-python",
   "name": "python",
   "nbconvert_exporter": "python",
   "pygments_lexer": "ipython3",
   "version": "3.9.7"
  }
 },
 "nbformat": 4,
 "nbformat_minor": 2
}
