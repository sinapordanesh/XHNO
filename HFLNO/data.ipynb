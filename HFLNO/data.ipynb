{
 "cells": [
  {
   "cell_type": "code",
   "execution_count": null,
   "metadata": {},
   "outputs": [],
   "source": [
    "!pip install h5py"
   ]
  },
  {
   "cell_type": "code",
   "execution_count": 1,
   "metadata": {},
   "outputs": [],
   "source": [
    "from scipy.io import loadmat\n",
    "import numpy as np\n",
    "import torch\n",
    "import matplotlib.pyplot as plt"
   ]
  },
  {
   "cell_type": "code",
   "execution_count": 2,
   "metadata": {},
   "outputs": [],
   "source": [
    "import h5py\n",
    "\n",
    "def load_h5py_mat_file(filepath):\n",
    "    data = {}\n",
    "    with h5py.File(filepath, 'r') as file:\n",
    "        def recursively_load_datasets(h5py_group, data_dict):\n",
    "            for key, item in h5py_group.items():\n",
    "                if isinstance(item, h5py.Dataset):  # If item is a dataset\n",
    "                    data_dict[key] = item[()]  # Read the data\n",
    "                elif isinstance(item, h5py.Group):  # If item is a group, read recursively\n",
    "                    data_dict[key] = {}\n",
    "                    recursively_load_datasets(item, data_dict[key])\n",
    "\n",
    "        recursively_load_datasets(file, data)\n",
    "    return data\n"
   ]
  },
  {
   "cell_type": "code",
   "execution_count": 3,
   "metadata": {},
   "outputs": [],
   "source": [
    "def shape(data, indent=0):\n",
    "    \"\"\"\n",
    "    Recursively prints the structure of the data dictionary.\n",
    "    \"\"\"\n",
    "    for key, value in data.items():\n",
    "        # Print the key with indentation\n",
    "        print(\"  \" * indent + f\"{key}: \", end=\"\")\n",
    "        \n",
    "        # Check the type of the item\n",
    "        if isinstance(value, dict):  # Nested group\n",
    "            print(\"Group\")\n",
    "            print_structure(value, indent + 1)\n",
    "        elif isinstance(value, (list, tuple)):  # List or tuple\n",
    "            print(f\"List/Tuple of length {len(value)}\")\n",
    "        elif hasattr(value, 'shape'):  # Numpy arrays or datasets with a shape\n",
    "            print(f\"Dataset, shape={value.shape}\")\n",
    "        else:\n",
    "            print(\"Unknown type\")"
   ]
  },
  {
   "cell_type": "code",
   "execution_count": 8,
   "metadata": {},
   "outputs": [],
   "source": [
    "data1 = load_h5py_mat_file('data/2D_ns_V1e-3_N5000_T50.mat')"
   ]
  },
  {
   "cell_type": "code",
   "execution_count": 9,
   "metadata": {},
   "outputs": [
    {
     "name": "stdout",
     "output_type": "stream",
     "text": [
      "a: Dataset, shape=(64, 64, 5000)\n",
      "t: Dataset, shape=(50, 1)\n",
      "u: Dataset, shape=(50, 64, 64, 5000)\n"
     ]
    }
   ],
   "source": [
    "shape(data1)"
   ]
  },
  {
   "cell_type": "code",
   "execution_count": 5,
   "metadata": {},
   "outputs": [],
   "source": [
    "data2 = loadmat('data/1D_burgers_data_R10.mat')"
   ]
  },
  {
   "cell_type": "code",
   "execution_count": 6,
   "metadata": {},
   "outputs": [
    {
     "name": "stdout",
     "output_type": "stream",
     "text": [
      "Variable '__header__' is not an array; shape is not applicable\n",
      "Variable '__version__' is not an array; shape is not applicable\n",
      "Variable '__globals__' is not an array; shape is not applicable\n",
      "Variable 'a': Shape = (2048, 8192)\n",
      "Variable 'a_smooth': Shape = (2048, 8192)\n",
      "Variable 'a_smooth_x': Shape = (2048, 8191)\n",
      "Variable 'a_x': Shape = (2048, 8191)\n",
      "Variable 'u': Shape = (2048, 8192)\n"
     ]
    }
   ],
   "source": [
    "for key, value in data2.items():\n",
    "    if isinstance(value, np.ndarray):  # Check if the variable is an array\n",
    "        print(f\"Variable '{key}': Shape = {value.shape}\")\n",
    "    else:\n",
    "        print(f\"Variable '{key}' is not an array; shape is not applicable\")\n"
   ]
  },
  {
   "cell_type": "code",
   "execution_count": null,
   "metadata": {},
   "outputs": [],
   "source": []
  }
 ],
 "metadata": {
  "kernelspec": {
   "display_name": ".venv",
   "language": "python",
   "name": "python3"
  },
  "language_info": {
   "codemirror_mode": {
    "name": "ipython",
    "version": 3
   },
   "file_extension": ".py",
   "mimetype": "text/x-python",
   "name": "python",
   "nbconvert_exporter": "python",
   "pygments_lexer": "ipython3",
   "version": "3.12.4"
  }
 },
 "nbformat": 4,
 "nbformat_minor": 2
}
