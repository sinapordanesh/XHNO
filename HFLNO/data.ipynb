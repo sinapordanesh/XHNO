{
 "cells": [
  {
   "cell_type": "code",
   "execution_count": null,
   "metadata": {},
   "outputs": [],
   "source": [
    "!pip install h5py"
   ]
  },
  {
   "cell_type": "code",
   "execution_count": 1,
   "metadata": {},
   "outputs": [],
   "source": [
    "from scipy.io import loadmat\n",
    "import numpy as np\n",
    "import torch\n",
    "import matplotlib.pyplot as plt"
   ]
  },
  {
   "cell_type": "code",
   "execution_count": 2,
   "metadata": {},
   "outputs": [],
   "source": [
    "import h5py\n",
    "\n",
    "def load_h5py_mat_file(filepath):\n",
    "    data = {}\n",
    "    with h5py.File(filepath, 'r') as file:\n",
    "        def recursively_load_datasets(h5py_group, data_dict):\n",
    "            for key, item in h5py_group.items():\n",
    "                if isinstance(item, h5py.Dataset):  # If item is a dataset\n",
    "                    data_dict[key] = item[()]  # Read the data\n",
    "                elif isinstance(item, h5py.Group):  # If item is a group, read recursively\n",
    "                    data_dict[key] = {}\n",
    "                    recursively_load_datasets(item, data_dict[key])\n",
    "\n",
    "        recursively_load_datasets(file, data)\n",
    "    return data\n"
   ]
  },
  {
   "cell_type": "code",
   "execution_count": 3,
   "metadata": {},
   "outputs": [],
   "source": [
    "def shape(data, indent=0):\n",
    "    \"\"\"\n",
    "    Recursively prints the structure of the data dictionary.\n",
    "    \"\"\"\n",
    "    for key, value in data.items():\n",
    "        # Print the key with indentation\n",
    "        print(\"  \" * indent + f\"{key}: \", end=\"\")\n",
    "        \n",
    "        # Check the type of the item\n",
    "        if isinstance(value, dict):  # Nested group\n",
    "            print(\"Group\")\n",
    "            print_structure(value, indent + 1)\n",
    "        elif isinstance(value, (list, tuple)):  # List or tuple\n",
    "            print(f\"List/Tuple of length {len(value)}\")\n",
    "        elif hasattr(value, 'shape'):  # Numpy arrays or datasets with a shape\n",
    "            print(f\"Dataset, shape={value.shape}\")\n",
    "        else:\n",
    "            print(\"Unknown type\")"
   ]
  },
  {
   "cell_type": "code",
   "execution_count": 26,
   "metadata": {},
   "outputs": [],
   "source": [
    "data1 = load_h5py_mat_file('data/2D_ns_V1e-3_N5000_T50.mat')"
   ]
  },
  {
   "cell_type": "code",
   "execution_count": 28,
   "metadata": {},
   "outputs": [
    {
     "name": "stdout",
     "output_type": "stream",
     "text": [
      "a: Dataset, shape=(64, 64, 5000)\n",
      "t: Dataset, shape=(50, 1)\n",
      "u: Dataset, shape=(50, 64, 64, 5000)\n"
     ]
    }
   ],
   "source": [
    "shape(data1)"
   ]
  },
  {
   "cell_type": "code",
   "execution_count": 30,
   "metadata": {},
   "outputs": [],
   "source": [
    "import scipy\n",
    "class MatReader(object):\n",
    "    def __init__(self, file_path, to_torch=True, to_cuda=False, to_float=True):\n",
    "        super(MatReader, self).__init__()\n",
    "\n",
    "        self.to_torch = to_torch\n",
    "        self.to_cuda = to_cuda\n",
    "        self.to_float = to_float\n",
    "\n",
    "        self.file_path = file_path\n",
    "\n",
    "        self.data = None\n",
    "        self.old_mat = None\n",
    "        self._load_file()\n",
    "\n",
    "    def _load_file(self):\n",
    "        try:\n",
    "            self.data = scipy.io.loadmat(self.file_path)\n",
    "            self.old_mat = True\n",
    "        except:\n",
    "            # self.data = h5py.File(self.file_path)\n",
    "            self.old_mat = False\n",
    "\n",
    "    def load_file(self, file_path):\n",
    "        self.file_path = file_path\n",
    "        self._load_file()\n",
    "\n",
    "    def read_field(self, field):\n",
    "        x = self.data[field]\n",
    "\n",
    "        if not self.old_mat:\n",
    "            x = x[()]\n",
    "            x = np.transpose(x, axes=range(len(x.shape) - 1, -1, -1))\n",
    "\n",
    "        if self.to_float:\n",
    "            x = x.astype(np.float32)\n",
    "\n",
    "        if self.to_torch:\n",
    "            x = torch.from_numpy(x)\n",
    "\n",
    "            if self.to_cuda:\n",
    "                x = x.cuda()\n",
    "\n",
    "        return x\n",
    "\n",
    "    def set_cuda(self, to_cuda):\n",
    "        self.to_cuda = to_cuda\n",
    "\n",
    "    def set_torch(self, to_torch):\n",
    "        self.to_torch = to_torch\n",
    "\n",
    "    def set_float(self, to_float):\n",
    "        self.to_float = to_float\n",
    "    def list_keys(self):\n",
    "        \"\"\"List all keys available in the loaded .mat file.\"\"\"\n",
    "        if self.data is not None:\n",
    "            return self.data.keys()\n",
    "        else:\n",
    "            raise ValueError(\"No data loaded. Please check the file path or file format.\")"
   ]
  },
  {
   "cell_type": "code",
   "execution_count": 41,
   "metadata": {},
   "outputs": [],
   "source": [
    "path = \"data/2D_ns_V1e-3_N5000_T50_1.mat\"\n",
    "path2 = \"data/1D_Lorenz_rho10.mat\"\n",
    "\n",
    "data = MatReader(path)\n",
    "# data2 = MatReader(path2)\n",
    "# data3 = MatReader('data/1D_burgers_data_R10.mat')"
   ]
  },
  {
   "cell_type": "code",
   "execution_count": 42,
   "metadata": {},
   "outputs": [
    {
     "data": {
      "text/plain": [
       "dict_keys(['__header__', '__version__', '__globals__', 'u'])"
      ]
     },
     "execution_count": 42,
     "metadata": {},
     "output_type": "execute_result"
    }
   ],
   "source": [
    "data.list_keys()"
   ]
  },
  {
   "cell_type": "code",
   "execution_count": 5,
   "metadata": {},
   "outputs": [],
   "source": [
    "data2 = loadmat('data/1D_burgers_data_R10.mat')"
   ]
  },
  {
   "cell_type": "code",
   "execution_count": 17,
   "metadata": {},
   "outputs": [
    {
     "ename": "AttributeError",
     "evalue": "'MatReader' object has no attribute 'items'",
     "output_type": "error",
     "traceback": [
      "\u001b[0;31m---------------------------------------------------------------------------\u001b[0m",
      "\u001b[0;31mAttributeError\u001b[0m                            Traceback (most recent call last)",
      "Cell \u001b[0;32mIn[17], line 1\u001b[0m\n\u001b[0;32m----> 1\u001b[0m \u001b[38;5;28;01mfor\u001b[39;00m key, value \u001b[38;5;129;01min\u001b[39;00m \u001b[43mdata2\u001b[49m\u001b[38;5;241;43m.\u001b[39;49m\u001b[43mitems\u001b[49m():\n\u001b[1;32m      2\u001b[0m     \u001b[38;5;28;01mif\u001b[39;00m \u001b[38;5;28misinstance\u001b[39m(value, np\u001b[38;5;241m.\u001b[39mndarray):  \u001b[38;5;66;03m# Check if the variable is an array\u001b[39;00m\n\u001b[1;32m      3\u001b[0m         \u001b[38;5;28mprint\u001b[39m(\u001b[38;5;124mf\u001b[39m\u001b[38;5;124m\"\u001b[39m\u001b[38;5;124mVariable \u001b[39m\u001b[38;5;124m'\u001b[39m\u001b[38;5;132;01m{\u001b[39;00mkey\u001b[38;5;132;01m}\u001b[39;00m\u001b[38;5;124m'\u001b[39m\u001b[38;5;124m: Shape = \u001b[39m\u001b[38;5;132;01m{\u001b[39;00mvalue\u001b[38;5;241m.\u001b[39mshape\u001b[38;5;132;01m}\u001b[39;00m\u001b[38;5;124m\"\u001b[39m)\n",
      "\u001b[0;31mAttributeError\u001b[0m: 'MatReader' object has no attribute 'items'"
     ]
    }
   ],
   "source": [
    "for key, value in data2.items():\n",
    "    if isinstance(value, np.ndarray):  # Check if the variable is an array\n",
    "        print(f\"Variable '{key}': Shape = {value.shape}\")\n",
    "    else:\n",
    "        print(f\"Variable '{key}' is not an array; shape is not applicable\")\n"
   ]
  },
  {
   "cell_type": "code",
   "execution_count": null,
   "metadata": {},
   "outputs": [],
   "source": []
  }
 ],
 "metadata": {
  "kernelspec": {
   "display_name": ".venv",
   "language": "python",
   "name": "python3"
  },
  "language_info": {
   "codemirror_mode": {
    "name": "ipython",
    "version": 3
   },
   "file_extension": ".py",
   "mimetype": "text/x-python",
   "name": "python",
   "nbconvert_exporter": "python",
   "pygments_lexer": "ipython3",
   "version": "3.12.4"
  }
 },
 "nbformat": 4,
 "nbformat_minor": 2
}
