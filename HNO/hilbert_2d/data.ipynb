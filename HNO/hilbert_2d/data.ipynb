{
 "cells": [
  {
   "cell_type": "code",
   "execution_count": 1,
   "metadata": {},
   "outputs": [],
   "source": [
    "from scipy.io import loadmat\n",
    "import numpy as np\n",
    "import torch\n",
    "import matplotlib.pyplot as plt"
   ]
  },
  {
   "cell_type": "code",
   "execution_count": 6,
   "metadata": {},
   "outputs": [],
   "source": [
    "data1 = loadmat('data/piececonst_r241_N1024_smooth1.mat')\n",
    "data2 = loadmat('data/piececonst_r241_N1024_smooth2.mat')"
   ]
  },
  {
   "cell_type": "code",
   "execution_count": 7,
   "metadata": {},
   "outputs": [
    {
     "data": {
      "text/plain": [
       "dict_keys(['__header__', '__version__', '__globals__', 'Kcoeff', 'Kcoeff_x', 'Kcoeff_y', 'coeff', 'sol'])"
      ]
     },
     "execution_count": 7,
     "metadata": {},
     "output_type": "execute_result"
    }
   ],
   "source": [
    "data1.keys()"
   ]
  },
  {
   "cell_type": "code",
   "execution_count": 8,
   "metadata": {},
   "outputs": [
    {
     "data": {
      "text/plain": [
       "dict_keys(['__header__', '__version__', '__globals__', 'Kcoeff', 'Kcoeff_x', 'Kcoeff_y', 'coeff', 'sol'])"
      ]
     },
     "execution_count": 8,
     "metadata": {},
     "output_type": "execute_result"
    }
   ],
   "source": [
    "data2.keys()"
   ]
  },
  {
   "cell_type": "code",
   "execution_count": 9,
   "metadata": {},
   "outputs": [
    {
     "name": "stdout",
     "output_type": "stream",
     "text": [
      "Variable '__header__' is not an array; shape is not applicable\n",
      "Variable '__version__' is not an array; shape is not applicable\n",
      "Variable '__globals__' is not an array; shape is not applicable\n",
      "Variable 'Kcoeff': Shape = (1024, 241, 241)\n",
      "Variable 'Kcoeff_x': Shape = (1024, 241, 241)\n",
      "Variable 'Kcoeff_y': Shape = (1024, 241, 241)\n",
      "Variable 'coeff': Shape = (1024, 241, 241)\n",
      "Variable 'sol': Shape = (1024, 241, 241)\n"
     ]
    }
   ],
   "source": [
    "for key, value in data1.items():\n",
    "    if isinstance(value, np.ndarray):  # Check if the variable is an array\n",
    "        print(f\"Variable '{key}': Shape = {value.shape}\")\n",
    "    else:\n",
    "        print(f\"Variable '{key}' is not an array; shape is not applicable\")\n"
   ]
  },
  {
   "cell_type": "code",
   "execution_count": 10,
   "metadata": {},
   "outputs": [
    {
     "name": "stdout",
     "output_type": "stream",
     "text": [
      "Variable '__header__' is not an array; shape is not applicable\n",
      "Variable '__version__' is not an array; shape is not applicable\n",
      "Variable '__globals__' is not an array; shape is not applicable\n",
      "Variable 'Kcoeff': Shape = (1024, 241, 241)\n",
      "Variable 'Kcoeff_x': Shape = (1024, 241, 241)\n",
      "Variable 'Kcoeff_y': Shape = (1024, 241, 241)\n",
      "Variable 'coeff': Shape = (1024, 241, 241)\n",
      "Variable 'sol': Shape = (1024, 241, 241)\n"
     ]
    }
   ],
   "source": [
    "for key, value in data2.items():\n",
    "    if isinstance(value, np.ndarray):  # Check if the variable is an array\n",
    "        print(f\"Variable '{key}': Shape = {value.shape}\")\n",
    "    else:\n",
    "        print(f\"Variable '{key}' is not an array; shape is not applicable\")\n"
   ]
  },
  {
   "cell_type": "code",
   "execution_count": 11,
   "metadata": {},
   "outputs": [],
   "source": [
    "data21 = loadmat('data/Darcy_421/piececonst_r421_N1024_smooth1.mat')\n",
    "data22 = loadmat('data/Darcy_421/piececonst_r421_N1024_smooth2.mat')"
   ]
  },
  {
   "cell_type": "code",
   "execution_count": 12,
   "metadata": {},
   "outputs": [
    {
     "name": "stdout",
     "output_type": "stream",
     "text": [
      "Variable '__header__' is not an array; shape is not applicable\n",
      "Variable '__version__' is not an array; shape is not applicable\n",
      "Variable '__globals__' is not an array; shape is not applicable\n",
      "Variable 'Kcoeff': Shape = (1024, 421, 421)\n",
      "Variable 'Kcoeff_x': Shape = (1024, 421, 421)\n",
      "Variable 'Kcoeff_y': Shape = (1024, 421, 421)\n",
      "Variable 'coeff': Shape = (1024, 421, 421)\n",
      "Variable 'sol': Shape = (1024, 421, 421)\n"
     ]
    }
   ],
   "source": [
    "for key, value in data21.items():\n",
    "    if isinstance(value, np.ndarray):  # Check if the variable is an array\n",
    "        print(f\"Variable '{key}': Shape = {value.shape}\")\n",
    "    else:\n",
    "        print(f\"Variable '{key}' is not an array; shape is not applicable\")\n"
   ]
  },
  {
   "cell_type": "code",
   "execution_count": 13,
   "metadata": {},
   "outputs": [
    {
     "name": "stdout",
     "output_type": "stream",
     "text": [
      "Variable '__header__' is not an array; shape is not applicable\n",
      "Variable '__version__' is not an array; shape is not applicable\n",
      "Variable '__globals__' is not an array; shape is not applicable\n",
      "Variable 'Kcoeff': Shape = (1024, 421, 421)\n",
      "Variable 'Kcoeff_x': Shape = (1024, 421, 421)\n",
      "Variable 'Kcoeff_y': Shape = (1024, 421, 421)\n",
      "Variable 'coeff': Shape = (1024, 421, 421)\n",
      "Variable 'sol': Shape = (1024, 421, 421)\n"
     ]
    }
   ],
   "source": [
    "for key, value in data22.items():\n",
    "    if isinstance(value, np.ndarray):  # Check if the variable is an array\n",
    "        print(f\"Variable '{key}': Shape = {value.shape}\")\n",
    "    else:\n",
    "        print(f\"Variable '{key}' is not an array; shape is not applicable\")\n"
   ]
  },
  {
   "cell_type": "code",
   "execution_count": 7,
   "metadata": {},
   "outputs": [
    {
     "data": {
      "text/plain": [
       "array([ 0.83541104,  0.81841904,  0.78818019,  0.75133547,  0.69740201,\n",
       "        0.61704211,  0.52388362,  0.4391299 ,  0.36438884,  0.28760041,\n",
       "        0.20573878,  0.12109126,  0.02372342, -0.09675056, -0.2229574 ,\n",
       "       -0.31763243, -0.36468745, -0.38353293, -0.39880158, -0.41732908,\n",
       "       -0.44399641, -0.49750857, -0.58863778, -0.69189176, -0.76094449,\n",
       "       -0.77653893, -0.76754176, -0.77876992, -0.82402601, -0.87755753,\n",
       "       -0.90979156, -0.92145924, -0.93443396, -0.95518884, -0.96471089,\n",
       "       -0.94970939, -0.92525163, -0.90966057, -0.88951334, -0.83367761,\n",
       "       -0.73942528, -0.64027162, -0.56364057, -0.50319866, -0.4420379 ,\n",
       "       -0.3807758 , -0.3248943 , -0.25976264, -0.1618352 , -0.03277337,\n",
       "        0.0940876 ,  0.18440787,  0.23251459,  0.26107564,  0.29717039,\n",
       "        0.34728507,  0.39177039,  0.40571151,  0.38590965,  0.35202791,\n",
       "        0.32283156,  0.30357205,  0.29804659,  0.31438248,  0.3482103 ,\n",
       "        0.37686764,  0.38717249,  0.39755222,  0.43505659,  0.49981432,\n",
       "        0.57107526,  0.63968455,  0.71123961,  0.78075209,  0.82929375,\n",
       "        0.84927533,  0.85255194,  0.84950879,  0.83965796,  0.82730264,\n",
       "        0.82520136,  0.83372862])"
      ]
     },
     "execution_count": 7,
     "metadata": {},
     "output_type": "execute_result"
    }
   ],
   "source": [
    "data['a'][0, ::100]"
   ]
  },
  {
   "cell_type": "code",
   "execution_count": 14,
   "metadata": {},
   "outputs": [],
   "source": [
    "tensor = torch.from_numpy(data['a'][0, ::100])\n",
    "signal = torch.fft.fft(tensor)\n",
    "magnitude = torch.abs(signal)"
   ]
  },
  {
   "cell_type": "code",
   "execution_count": 18,
   "metadata": {},
   "outputs": [
    {
     "data": {
      "text/plain": [
       "tensor([ 6.6968e-02+0.0000e+00j,  2.7226e+01+2.0552e+01j,\n",
       "         3.7010e+00-5.9645e+00j,  4.7610e+00+2.1753e+00j,\n",
       "        -7.3925e-01+3.0152e-01j, -1.1489e+00-9.2437e-01j,\n",
       "        -9.4429e-02-4.7686e-01j, -5.2765e-01+2.7409e-01j,\n",
       "         7.5488e-01-3.7113e-01j,  2.6522e-01-6.0267e-01j,\n",
       "         4.1906e-02-6.8954e-01j, -3.8048e-01+7.4016e-01j,\n",
       "        -4.3174e-02-5.9317e-02j,  2.2936e-01-1.4891e-01j,\n",
       "        -7.5851e-02+1.3674e-01j,  5.3991e-02+6.8457e-02j,\n",
       "         1.6693e-01-6.7450e-02j, -3.1096e-01+2.4390e-02j,\n",
       "         1.4796e-01+4.9676e-02j,  9.2030e-02-3.3356e-02j,\n",
       "         1.1230e-01+2.0937e-02j, -3.3529e-03-6.0684e-04j,\n",
       "        -1.8406e-03-4.0444e-04j, -1.2743e-03-3.2575e-04j,\n",
       "        -9.6936e-04-2.7831e-04j, -7.7654e-04-2.4420e-04j,\n",
       "        -6.4297e-04-2.1721e-04j, -5.4487e-04-1.9457e-04j,\n",
       "        -4.6993e-04-1.7479e-04j, -4.1106e-04-1.5701e-04j,\n",
       "        -3.6390e-04-1.4070e-04j, -3.2563e-04-1.2550e-04j,\n",
       "        -2.9430e-04-1.1115e-04j, -2.6855e-04-9.7466e-05j,\n",
       "        -2.4743e-04-8.4315e-05j, -2.3020e-04-7.1586e-05j,\n",
       "        -2.1634e-04-5.9192e-05j, -2.0546e-04-4.7061e-05j,\n",
       "        -1.9726e-04-3.5129e-05j, -1.9155e-04-2.3342e-05j,\n",
       "        -1.8817e-04-1.1648e-05j, -1.8705e-04+0.0000e+00j,\n",
       "        -1.8817e-04+1.1648e-05j, -1.9155e-04+2.3342e-05j,\n",
       "        -1.9726e-04+3.5129e-05j, -2.0546e-04+4.7061e-05j,\n",
       "        -2.1634e-04+5.9192e-05j, -2.3020e-04+7.1586e-05j,\n",
       "        -2.4743e-04+8.4315e-05j, -2.6855e-04+9.7466e-05j,\n",
       "        -2.9430e-04+1.1115e-04j, -3.2563e-04+1.2550e-04j,\n",
       "        -3.6390e-04+1.4070e-04j, -4.1106e-04+1.5701e-04j,\n",
       "        -4.6993e-04+1.7479e-04j, -5.4487e-04+1.9457e-04j,\n",
       "        -6.4297e-04+2.1721e-04j, -7.7654e-04+2.4420e-04j,\n",
       "        -9.6936e-04+2.7831e-04j, -1.2743e-03+3.2575e-04j,\n",
       "        -1.8406e-03+4.0444e-04j, -3.3529e-03+6.0684e-04j,\n",
       "         1.1230e-01-2.0937e-02j,  9.2030e-02+3.3356e-02j,\n",
       "         1.4796e-01-4.9676e-02j, -3.1096e-01-2.4390e-02j,\n",
       "         1.6693e-01+6.7450e-02j,  5.3991e-02-6.8457e-02j,\n",
       "        -7.5851e-02-1.3674e-01j,  2.2936e-01+1.4891e-01j,\n",
       "        -4.3174e-02+5.9317e-02j, -3.8048e-01-7.4016e-01j,\n",
       "         4.1906e-02+6.8954e-01j,  2.6522e-01+6.0267e-01j,\n",
       "         7.5488e-01+3.7113e-01j, -5.2765e-01-2.7409e-01j,\n",
       "        -9.4429e-02+4.7686e-01j, -1.1489e+00+9.2437e-01j,\n",
       "        -7.3925e-01-3.0152e-01j,  4.7610e+00-2.1753e+00j,\n",
       "         3.7010e+00+5.9645e+00j,  2.7226e+01-2.0552e+01j],\n",
       "       dtype=torch.complex128)"
      ]
     },
     "execution_count": 18,
     "metadata": {},
     "output_type": "execute_result"
    }
   ],
   "source": [
    "signal"
   ]
  },
  {
   "cell_type": "code",
   "execution_count": 17,
   "metadata": {},
   "outputs": [
    {
     "data": {
      "image/png": "[encoded data removed]",
      "text/plain": [
       "<Figure size 640x480 with 1 Axes>"
      ]
     },
     "metadata": {},
     "output_type": "display_data"
    }
   ],
   "source": [
    "# Define frequency axis for plotting\n",
    "n = signal.size(0)\n",
    "freqs = np.fft.fftfreq(n, d=1/128)[:n // 2]  # Adjust `d` based on sampling rate\n",
    "\n",
    "# Plot the magnitude spectrum\n",
    "plt.plot(freqs, magnitude[:n // 2].numpy())  # Convert to NumPy for matplotlib\n",
    "plt.title(\"Magnitude Spectrum of Fourier Transform\")\n",
    "plt.xlabel(\"Frequency (Hz)\")\n",
    "plt.ylabel(\"Magnitude\")\n",
    "plt.show()"
   ]
  },
  {
   "cell_type": "code",
   "execution_count": null,
   "metadata": {},
   "outputs": [],
   "source": []
  }
 ],
 "metadata": {
  "kernelspec": {
   "display_name": ".venv",
   "language": "python",
   "name": "python3"
  },
  "language_info": {
   "codemirror_mode": {
    "name": "ipython",
    "version": 3
   },
   "file_extension": ".py",
   "mimetype": "text/x-python",
   "name": "python",
   "nbconvert_exporter": "python",
   "pygments_lexer": "ipython3",
   "version": "3.9.7"
  }
 },
 "nbformat": 4,
 "nbformat_minor": 2
}
