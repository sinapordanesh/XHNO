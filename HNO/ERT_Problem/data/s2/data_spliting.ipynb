{
 "cells": [
  {
   "cell_type": "code",
   "execution_count": 2,
   "metadata": {},
   "outputs": [],
   "source": [
    "import h5py\n",
    "import numpy as np\n",
    "from scipy.io import savemat"
   ]
  },
  {
   "cell_type": "code",
   "execution_count": 3,
   "metadata": {},
   "outputs": [],
   "source": [
    "import h5py\n",
    "import numpy as np\n",
    "from scipy.io import savemat\n",
    "\n",
    "# Define the number of samples to extract from the end of the last dimension\n",
    "num_samples_to_extract = 100\n",
    "\n",
    "# Load the .mat file\n",
    "with h5py.File('trainingV.mat', 'r') as file:  # Replace with your actual file name\n",
    "    # Dictionary to store the last 'num_samples_to_extract' samples and the remaining data for each variable\n",
    "    last_samples = {}\n",
    "    modified_data = {}\n",
    "    \n",
    "    for var_name in file.keys():\n",
    "        # Convert each dataset to a numpy array\n",
    "        data = np.array(file[var_name])\n",
    "        \n",
    "        # Determine the size of the last dimension\n",
    "        last_dim_size = data.shape[-1]\n",
    "\n",
    "        # Take the last 'num_samples_to_extract' samples along the last dimension\n",
    "        last_samples[var_name] = data[..., -num_samples_to_extract:]\n",
    "\n",
    "        # Keep the remaining samples (without the last 'num_samples_to_extract')\n",
    "        modified_data[var_name] = data[..., :-num_samples_to_extract]\n"
   ]
  },
  {
   "cell_type": "code",
   "execution_count": null,
   "metadata": {},
   "outputs": [],
   "source": []
  },
  {
   "cell_type": "code",
   "execution_count": 4,
   "metadata": {},
   "outputs": [
    {
     "name": "stdout",
     "output_type": "stream",
     "text": [
      "Files saved: 'evalV.mat' and 'trainingV.mat'\n"
     ]
    }
   ],
   "source": [
    "\n",
    "# Save the last samples and modified data as new .mat files\n",
    "savemat('evalV.mat', last_samples)\n",
    "savemat('trainingV.mat', modified_data)\n",
    "\n",
    "print(\"Files saved: 'evalV.mat' and 'trainingV.mat'\")\n"
   ]
  },
  {
   "cell_type": "code",
   "execution_count": null,
   "metadata": {},
   "outputs": [],
   "source": []
  }
 ],
 "metadata": {
  "kernelspec": {
   "display_name": ".venv",
   "language": "python",
   "name": "python3"
  },
  "language_info": {
   "codemirror_mode": {
    "name": "ipython",
    "version": 3
   },
   "file_extension": ".py",
   "mimetype": "text/x-python",
   "name": "python",
   "nbconvert_exporter": "python",
   "pygments_lexer": "ipython3",
   "version": "3.10.13"
  }
 },
 "nbformat": 4,
 "nbformat_minor": 2
}
