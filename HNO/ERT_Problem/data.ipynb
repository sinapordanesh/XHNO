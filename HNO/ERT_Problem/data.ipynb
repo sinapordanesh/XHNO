{
 "cells": [
  {
   "cell_type": "code",
   "execution_count": 6,
   "metadata": {},
   "outputs": [
    {
     "name": "stdout",
     "output_type": "stream",
     "text": [
      "Collecting h5py\n",
      "  Downloading h5py-3.12.1-cp39-cp39-macosx_11_0_arm64.whl.metadata (2.5 kB)\n",
      "Requirement already satisfied: numpy>=1.19.3 in /Users/sina/Documents/GitHub_Local/XNO/.venv/lib/python3.9/site-packages (from h5py) (2.0.2)\n",
      "Downloading h5py-3.12.1-cp39-cp39-macosx_11_0_arm64.whl (2.9 MB)\n",
      "\u001b[2K   \u001b[90m━━━━━━━━━━━━━━━━━━━━━━━━━━━━━━━━━━━━━━━━\u001b[0m \u001b[32m2.9/2.9 MB\u001b[0m \u001b[31m17.7 MB/s\u001b[0m eta \u001b[36m0:00:00\u001b[0ma \u001b[36m0:00:01\u001b[0m\n",
      "\u001b[?25hInstalling collected packages: h5py\n",
      "Successfully installed h5py-3.12.1\n"
     ]
    }
   ],
   "source": [
    "!pip install h5py"
   ]
  },
  {
   "cell_type": "code",
   "execution_count": 5,
   "metadata": {},
   "outputs": [],
   "source": [
    "from scipy.io import loadmat\n",
    "import numpy as np\n",
    "import torch\n",
    "import matplotlib.pyplot as plt"
   ]
  },
  {
   "cell_type": "code",
   "execution_count": 6,
   "metadata": {},
   "outputs": [],
   "source": [
    "import h5py\n",
    "\n",
    "def load_h5py_mat_file(filepath):\n",
    "    data = {}\n",
    "    with h5py.File(filepath, 'r') as file:\n",
    "        def recursively_load_datasets(h5py_group, data_dict):\n",
    "            for key, item in h5py_group.items():\n",
    "                if isinstance(item, h5py.Dataset):  # If item is a dataset\n",
    "                    data_dict[key] = item[()]  # Read the data\n",
    "                elif isinstance(item, h5py.Group):  # If item is a group, read recursively\n",
    "                    data_dict[key] = {}\n",
    "                    recursively_load_datasets(item, data_dict[key])\n",
    "\n",
    "        recursively_load_datasets(file, data)\n",
    "    return data\n"
   ]
  },
  {
   "cell_type": "code",
   "execution_count": 8,
   "metadata": {},
   "outputs": [],
   "source": [
    "# Load the entire .mat file\n",
    "data1 = load_h5py_mat_file('data/s1/evalK.mat')\n",
    "data2 = load_h5py_mat_file('data/s2/testV.mat')\n",
    "data3 = load_h5py_mat_file('data/s2/trainingV.mat')"
   ]
  },
  {
   "cell_type": "code",
   "execution_count": 9,
   "metadata": {},
   "outputs": [],
   "source": [
    "def shape(data, indent=0):\n",
    "    \"\"\"\n",
    "    Recursively prints the structure of the data dictionary.\n",
    "    \"\"\"\n",
    "    for key, value in data.items():\n",
    "        # Print the key with indentation\n",
    "        print(\"  \" * indent + f\"{key}: \", end=\"\")\n",
    "        \n",
    "        # Check the type of the item\n",
    "        if isinstance(value, dict):  # Nested group\n",
    "            print(\"Group\")\n",
    "            print_structure(value, indent + 1)\n",
    "        elif isinstance(value, (list, tuple)):  # List or tuple\n",
    "            print(f\"List/Tuple of length {len(value)}\")\n",
    "        elif hasattr(value, 'shape'):  # Numpy arrays or datasets with a shape\n",
    "            print(f\"Dataset, shape={value.shape}\")\n",
    "        else:\n",
    "            print(\"Unknown type\")"
   ]
  },
  {
   "cell_type": "code",
   "execution_count": 10,
   "metadata": {},
   "outputs": [
    {
     "name": "stdout",
     "output_type": "stream",
     "text": [
      "II: Dataset, shape=(100, 40, 101)\n",
      "coeff: Dataset, shape=(100, 40, 101)\n",
      "sol: Dataset, shape=(100, 40, 101)\n"
     ]
    }
   ],
   "source": [
    "shape(data1)"
   ]
  },
  {
   "cell_type": "code",
   "execution_count": 11,
   "metadata": {},
   "outputs": [
    {
     "name": "stdout",
     "output_type": "stream",
     "text": [
      "II: Dataset, shape=(100, 40, 1001)\n",
      "coeff: Dataset, shape=(100, 40, 1001)\n",
      "sol: Dataset, shape=(100, 40, 1001)\n"
     ]
    }
   ],
   "source": [
    "shape(data2)"
   ]
  },
  {
   "cell_type": "code",
   "execution_count": null,
   "metadata": {},
   "outputs": [
    {
     "name": "stdout",
     "output_type": "stream",
     "text": [
      "II: Dataset, shape=(100, 40, 90000)\n",
      "coeff: Dataset, shape=(100, 40, 90000)\n",
      "sol: Dataset, shape=(100, 40, 90000)\n"
     ]
    },
    {
     "ename": "",
     "evalue": "",
     "output_type": "error",
     "traceback": [
      "\u001b[1;31mThe Kernel crashed while executing code in the current cell or a previous cell. \n",
      "\u001b[1;31mPlease review the code in the cell(s) to identify a possible cause of the failure. \n",
      "\u001b[1;31mClick <a href='https://aka.ms/vscodeJupyterKernelCrash'>here</a> for more info. \n",
      "\u001b[1;31mView Jupyter <a href='command:jupyter.viewOutput'>log</a> for further details."
     ]
    }
   ],
   "source": [
    "shape(data3)"
   ]
  },
  {
   "cell_type": "code",
   "execution_count": null,
   "metadata": {},
   "outputs": [],
   "source": []
  }
 ],
 "metadata": {
  "kernelspec": {
   "display_name": ".venv",
   "language": "python",
   "name": "python3"
  },
  "language_info": {
   "codemirror_mode": {
    "name": "ipython",
    "version": 3
   },
   "file_extension": ".py",
   "mimetype": "text/x-python",
   "name": "python",
   "nbconvert_exporter": "python",
   "pygments_lexer": "ipython3",
   "version": "3.10.13"
  }
 },
 "nbformat": 4,
 "nbformat_minor": 2
}
